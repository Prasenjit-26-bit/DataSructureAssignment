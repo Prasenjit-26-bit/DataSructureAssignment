{
  "nbformat": 4,
  "nbformat_minor": 0,
  "metadata": {
    "colab": {
      "provenance": []
    },
    "kernelspec": {
      "name": "python3",
      "display_name": "Python 3"
    },
    "language_info": {
      "name": "python"
    }
  },
  "cells": [
    {
      "cell_type": "markdown",
      "source": [
        "#**Data Types and Structures Questions**"
      ],
      "metadata": {
        "id": "7DudPXm59ky3"
      }
    },
    {
      "cell_type": "markdown",
      "source": [
        "1. What are data structures, and why are they important?\n",
        "- A data structure is a specialized format for organizing, processing, retrieving and storing data. There are several basic and advanced types of data structures, all designed to arrange data to suit a specific purpose."
      ],
      "metadata": {
        "id": "e-1UvgjR9xC3"
      }
    },
    {
      "cell_type": "markdown",
      "source": [
        "2. Explain the difference between mutable and immutable data types with examples?\n",
        "- Mutable data types can be changed after they are created, while immutable data types cannot."
      ],
      "metadata": {
        "id": "XLv7i96q-WHx"
      }
    },
    {
      "cell_type": "code",
      "source": [
        "#example multable data structure list[] is mutable\n",
        "\n",
        "l = [1, 2, 3, 4]\n",
        "print(l)\n",
        "\n",
        "l[1] = 100\n",
        "print(\"change after creation:\", l)   #that is called list is mutable"
      ],
      "metadata": {
        "colab": {
          "base_uri": "https://localhost:8080/"
        },
        "id": "5yRjXr9j_IXp",
        "outputId": "5f509ba3-0fe7-4c2e-c7c4-b7890c0b87fd"
      },
      "execution_count": 1,
      "outputs": [
        {
          "output_type": "stream",
          "name": "stdout",
          "text": [
            "[1, 2, 3, 4]\n",
            "change after creation: [1, 100, 3, 4]\n"
          ]
        }
      ]
    },
    {
      "cell_type": "code",
      "source": [
        "#example immultable data structure tuple is immutable\n",
        "\n",
        "t = (1, 2, 3, 4)\n",
        "print(t)\n",
        "\n",
        "t[1] = 100    #it will throw an error because tuple is immutable"
      ],
      "metadata": {
        "colab": {
          "base_uri": "https://localhost:8080/",
          "height": 193
        },
        "id": "wAoFBCWTAFyx",
        "outputId": "f0e1efcb-392e-4461-a23a-c1300af33c50"
      },
      "execution_count": 2,
      "outputs": [
        {
          "output_type": "stream",
          "name": "stdout",
          "text": [
            "(1, 2, 3, 4)\n"
          ]
        },
        {
          "output_type": "error",
          "ename": "TypeError",
          "evalue": "'tuple' object does not support item assignment",
          "traceback": [
            "\u001b[0;31m---------------------------------------------------------------------------\u001b[0m",
            "\u001b[0;31mTypeError\u001b[0m                                 Traceback (most recent call last)",
            "\u001b[0;32m<ipython-input-2-ea43ae5be825>\u001b[0m in \u001b[0;36m<cell line: 0>\u001b[0;34m()\u001b[0m\n\u001b[1;32m      4\u001b[0m \u001b[0mprint\u001b[0m\u001b[0;34m(\u001b[0m\u001b[0mt\u001b[0m\u001b[0;34m)\u001b[0m\u001b[0;34m\u001b[0m\u001b[0;34m\u001b[0m\u001b[0m\n\u001b[1;32m      5\u001b[0m \u001b[0;34m\u001b[0m\u001b[0m\n\u001b[0;32m----> 6\u001b[0;31m \u001b[0mt\u001b[0m\u001b[0;34m[\u001b[0m\u001b[0;36m1\u001b[0m\u001b[0;34m]\u001b[0m \u001b[0;34m=\u001b[0m \u001b[0;36m100\u001b[0m    \u001b[0;31m#it will throw an error because tuple is immutable\u001b[0m\u001b[0;34m\u001b[0m\u001b[0;34m\u001b[0m\u001b[0m\n\u001b[0m",
            "\u001b[0;31mTypeError\u001b[0m: 'tuple' object does not support item assignment"
          ]
        }
      ]
    },
    {
      "cell_type": "markdown",
      "source": [
        "3. What are the main differences between lists and tuples in Python?\n",
        "- In Python, the primary difference between lists and tuples is that lists are mutable (can be changed), while tuples are immutable (cannot be modified) once created; meaning you can add, remove, or modify elements within a list, but not in a tuple, making tuples more suitable for storing data that should not be altered throughout a program.\n"
      ],
      "metadata": {
        "id": "y4HuFF7ZA33-"
      }
    },
    {
      "cell_type": "markdown",
      "source": [
        "4. Describe how dictionaries store data\n",
        "- Dictionaries are used to store data values in key:value pairs. A dictionary is a collection which is ordered*, changeable and do not allow duplicates. As of Python version 3.7, dictionaries are ordered. In Python 3.6 and earlier, dictionaries are unordered."
      ],
      "metadata": {
        "id": "uUfMxGg2BhV2"
      }
    },
    {
      "cell_type": "markdown",
      "source": [
        "5. Why might you use a set instead of a list in Python?\n",
        "- The Python sets are highly useful to efficiently remove duplicate values from a collection like a list and to perform common math operations like unions and intersections.\n"
      ],
      "metadata": {
        "id": "mT-ud6nlB_Kn"
      }
    },
    {
      "cell_type": "markdown",
      "source": [
        "6. What is a string in Python, and how is it different from a list?\n",
        "- In Python, a string is a sequence of characters, while a list is an ordered collection of items. Strings are immutable, meaning they cannot be changed after creation, while lists are mutable.\n"
      ],
      "metadata": {
        "id": "SULQsyOeCnxa"
      }
    },
    {
      "cell_type": "markdown",
      "source": [
        "7. How do tuples ensure data integrity in Python?\n",
        "- Tuples are immutable to ensure that their contents remain constant throughout their lifecycle, guaranteeing data integrity and reliability."
      ],
      "metadata": {
        "id": "GGFyHSySC6SA"
      }
    },
    {
      "cell_type": "markdown",
      "source": [
        "8. What is a hash table, and how does it relate to dictionaries in Python?\n",
        "- In Python, a hash table is a data structure that's used to implement dictionaries. A dictionary is a built-in data type that uses a hash table to store key-value pairs."
      ],
      "metadata": {
        "id": "ay17_nLMDSK9"
      }
    },
    {
      "cell_type": "markdown",
      "source": [
        "9. Can lists contain different data types in Python?\n",
        "- lists can contain heterogeneous data types and objects. For instance, integers, strings, and even functions can be stored within the same list."
      ],
      "metadata": {
        "id": "n8zKyo-xEjHl"
      }
    },
    {
      "cell_type": "markdown",
      "source": [
        "10. Explain why strings are immutable in Python.\n",
        "- Immutability is the property of an object according to which we can not change the object after we declared or after the creation of it and this Immutability in the case of the string is known as string immutability in Python."
      ],
      "metadata": {
        "id": "0VhByusdbf8w"
      }
    },
    {
      "cell_type": "markdown",
      "source": [
        "11. What advantages do dictionaries offer over lists for certain tasks?\n",
        "- Dictionaries are faster than lists for tasks that involve searching or looking up data, such as configurations, caches, and large datasets. This is because dictionaries use a technique called hashing to quickly find the value associated with a key.\n"
      ],
      "metadata": {
        "id": "yNiLWNEVcfo4"
      }
    },
    {
      "cell_type": "markdown",
      "source": [
        "12. Describe a scenario where using a tuple would be preferable over a list.\n",
        "- Use a tuple if you need an immutable collection where the elements won't change after creation. Tuples are generally faster and more memory-efficient than lists, making them better for fixed collections, especially as dictionary keys or when iteration speed is crucial.\n"
      ],
      "metadata": {
        "id": "Qzqvn-TMc29x"
      }
    },
    {
      "cell_type": "markdown",
      "source": [
        "13. How do sets handle duplicate values in Python?\n",
        "- Items of a set in python are immutable (unchangeable), do not duplicate values, and unordered. Thus, items in a set do not appear in a stipulated manner, i.e., they can appear in a different order every time it is used. Due to this, set items cannot be referred to by key or index."
      ],
      "metadata": {
        "id": "S2Sdz4bDfRma"
      }
    },
    {
      "cell_type": "markdown",
      "source": [
        "14. How does the “in” keyword work differently for lists and dictionaries?\n",
        "- For lists, it uses a search algorithm. As the list gets longer, the search time gets longer in direct proportion. For dictionaries, Python uses an algorithm called a hashtable that has a remarkable property: the in operator takes about the same amount of time no matter how many items there are in a dictionary."
      ],
      "metadata": {
        "id": "11ZKkL4df6YE"
      }
    },
    {
      "cell_type": "markdown",
      "source": [
        "15. Can you modify the elements of a tuple? Explain why or why not.\n",
        "- No, you cannot modify the elements of a tuple in Python because tuples are immutable. This means that once a tuple is created, you cannot change, add, or remove its elements.\n",
        "Explanati"
      ],
      "metadata": {
        "id": "2LJDI09qgfCc"
      }
    },
    {
      "cell_type": "markdown",
      "source": [
        "16. What is a nested dictionary, and give an example of its use case?\n",
        "- A nested dictionary is a dictionary that is stored within another dictionary. It's a powerful tool for storing and organizing data with multiple layers."
      ],
      "metadata": {
        "id": "HQoEGF02g906"
      }
    },
    {
      "cell_type": "code",
      "source": [
        "#example of nested dictionary\n",
        "\n",
        "students = {\n",
        "    \"Alice\": {\"age\": 25, \"major\": \"Computer Science\", \"grades\": [90, 85, 88]},\n",
        "    \"Bob\": {\"age\": 22, \"major\": \"Mathematics\", \"grades\": [92, 80, 76]},\n",
        "    \"Charlie\": {\"age\": 23, \"major\": \"Physics\", \"grades\": [85, 89, 91]}\n",
        "}\n",
        "\n",
        "# Accessing nested values\n",
        "print(students[\"Alice\"][\"major\"])\n",
        "print(students[\"Bob\"][\"grades\"][1])\n",
        "\n",
        "# Adding a new student\n",
        "students[\"David\"] = {\"age\": 24, \"major\": \"Biology\", \"grades\": [88, 79, 92]}\n",
        "\n",
        "# Modifying a nested value\n",
        "students[\"Charlie\"][\"grades\"].append(95)\n",
        "\n",
        "# Deleting a key-value pair\n",
        "del students[\"Bob\"]\n",
        "\n",
        "print(students)\n"
      ],
      "metadata": {
        "colab": {
          "base_uri": "https://localhost:8080/"
        },
        "id": "tdlMj7SfhTbY",
        "outputId": "2fd36398-8db3-4cad-9f29-bf6b279db167"
      },
      "execution_count": 1,
      "outputs": [
        {
          "output_type": "stream",
          "name": "stdout",
          "text": [
            "Computer Science\n",
            "80\n",
            "{'Alice': {'age': 25, 'major': 'Computer Science', 'grades': [90, 85, 88]}, 'Charlie': {'age': 23, 'major': 'Physics', 'grades': [85, 89, 91, 95]}, 'David': {'age': 24, 'major': 'Biology', 'grades': [88, 79, 92]}}\n"
          ]
        }
      ]
    },
    {
      "cell_type": "markdown",
      "source": [
        "17.  Describe the time complexity of accessing elements in a dictionary.\n",
        "- The time complexity of accessing an element in a Python dictionary is O(1) on average, which means it takes constant time. However, the worst-case time complexity can be O(n) if there are many collisions.\n"
      ],
      "metadata": {
        "id": "i6rjWVpjiUjf"
      }
    },
    {
      "cell_type": "markdown",
      "source": [
        "18.  In what situations are lists preferred over dictionaries?\n",
        "- For quick data look-ups, configurations, or caches, favor dictionaries. For ordered collections and sequence operations, such as maintaining a stack or queue, lists are more suitable."
      ],
      "metadata": {
        "id": "9VC9pqo2irFD"
      }
    },
    {
      "cell_type": "markdown",
      "source": [
        "19. Why are dictionaries considered unordered, and how does that affect data retrieval?\n",
        "- Dictionary is a data structure which is a important value structure, optimized for fast storage and recovery based on key. In python, dictionaries are un-ordered because Python dictionaries are not intended to be in order, as simple as that."
      ],
      "metadata": {
        "id": "EMWr2mdAjI9E"
      }
    },
    {
      "cell_type": "markdown",
      "source": [
        "20. Explain the difference between a list and a dictionary in terms of data retrieval.\n",
        "- In Python, the difference between data retrieval in a list and a dictionary is that lists use indices to access elements, while dictionaries use keys."
      ],
      "metadata": {
        "id": "80IWmUkmjoL0"
      }
    },
    {
      "cell_type": "markdown",
      "source": [
        "#**Practical Questions**"
      ],
      "metadata": {
        "id": "jF7nMTWdkgeX"
      }
    },
    {
      "cell_type": "code",
      "source": [
        "#1. Write a code to create a string with your name and print it.\n",
        "\n",
        "name = \"Prasenjit Prakash Bansod\"\n",
        "\n",
        "print(\"my name is:\", name)"
      ],
      "metadata": {
        "colab": {
          "base_uri": "https://localhost:8080/"
        },
        "id": "Mm9zhi_tkpY7",
        "outputId": "6a249a6a-341e-4f2a-fbbd-9d85961025d8"
      },
      "execution_count": 2,
      "outputs": [
        {
          "output_type": "stream",
          "name": "stdout",
          "text": [
            "my name is: Prasenjit Prakash Bansod\n"
          ]
        }
      ]
    },
    {
      "cell_type": "code",
      "source": [
        "#2. Write a code to find the length of the string \"Hello World\".\n",
        "\n",
        "greet = \"Hello World\"\n",
        "\n",
        "print(\"length of greet is:\", len(greet))"
      ],
      "metadata": {
        "colab": {
          "base_uri": "https://localhost:8080/"
        },
        "id": "dTfq9gM8lMx7",
        "outputId": "17bb910c-d118-465a-cad0-e88950689207"
      },
      "execution_count": 3,
      "outputs": [
        {
          "output_type": "stream",
          "name": "stdout",
          "text": [
            "length of greet is: 11\n"
          ]
        }
      ]
    },
    {
      "cell_type": "code",
      "source": [
        "#3. Write a code to slice the first 3 characters from the string \"Python Programming\".\n",
        "\n",
        "str1 = \"Python Programming\"\n",
        "\n",
        "str1[0:3]"
      ],
      "metadata": {
        "colab": {
          "base_uri": "https://localhost:8080/",
          "height": 36
        },
        "id": "QdHI7L4Dlka-",
        "outputId": "a138b0af-e36d-4ff7-c1cc-338517bfe719"
      },
      "execution_count": 5,
      "outputs": [
        {
          "output_type": "execute_result",
          "data": {
            "text/plain": [
              "'Pyt'"
            ],
            "application/vnd.google.colaboratory.intrinsic+json": {
              "type": "string"
            }
          },
          "metadata": {},
          "execution_count": 5
        }
      ]
    },
    {
      "cell_type": "code",
      "source": [
        "#4. Write a code to convert the string \"hello\" to uppercase.\n",
        "\n",
        "s = \"hello\"\n",
        "s.upper()"
      ],
      "metadata": {
        "colab": {
          "base_uri": "https://localhost:8080/",
          "height": 36
        },
        "id": "5xioP_ObmWZJ",
        "outputId": "5d5adb32-5dd3-41b3-e22d-ff0dff14245a"
      },
      "execution_count": 6,
      "outputs": [
        {
          "output_type": "execute_result",
          "data": {
            "text/plain": [
              "'HELLO'"
            ],
            "application/vnd.google.colaboratory.intrinsic+json": {
              "type": "string"
            }
          },
          "metadata": {},
          "execution_count": 6
        }
      ]
    },
    {
      "cell_type": "code",
      "source": [
        "#5. Write a code to replace the word \"apple\" with \"orange\" in the string \"I like apple\".\n",
        "\n",
        "s = \"I like apple\"\n",
        "\n",
        "s.replace(\"apple\", \"orange\")"
      ],
      "metadata": {
        "colab": {
          "base_uri": "https://localhost:8080/",
          "height": 36
        },
        "id": "6n4mDzbBmk1D",
        "outputId": "9569e275-a221-4a82-f39d-6b99c22d2dae"
      },
      "execution_count": 8,
      "outputs": [
        {
          "output_type": "execute_result",
          "data": {
            "text/plain": [
              "'I like orange'"
            ],
            "application/vnd.google.colaboratory.intrinsic+json": {
              "type": "string"
            }
          },
          "metadata": {},
          "execution_count": 8
        }
      ]
    },
    {
      "cell_type": "code",
      "source": [
        "#6. Write a code to create a list with numbers 1 to 5 and print it.\n",
        "\n",
        "l = []\n",
        "for i in range(1, 6):\n",
        "  l.append(i)\n",
        "\n",
        "print(l)"
      ],
      "metadata": {
        "colab": {
          "base_uri": "https://localhost:8080/"
        },
        "id": "5rlbvhFInCbK",
        "outputId": "c8f069f7-77b1-44ad-8260-9a4e473368a2"
      },
      "execution_count": 11,
      "outputs": [
        {
          "output_type": "stream",
          "name": "stdout",
          "text": [
            "[1, 2, 3, 4, 5]\n"
          ]
        }
      ]
    },
    {
      "cell_type": "code",
      "source": [
        "#7. Write a code to append the number 10 to the list [1, 2, 3, 4].\n",
        "\n",
        "l = [1, 2, 3, 4]\n",
        "l.append(10)\n",
        "print(l)"
      ],
      "metadata": {
        "colab": {
          "base_uri": "https://localhost:8080/"
        },
        "id": "bO74Tj0Ln6T0",
        "outputId": "683656d9-bc6f-447f-9d07-c023dac45301"
      },
      "execution_count": 12,
      "outputs": [
        {
          "output_type": "stream",
          "name": "stdout",
          "text": [
            "[1, 2, 3, 4, 10]\n"
          ]
        }
      ]
    },
    {
      "cell_type": "code",
      "source": [
        "#8. Write a code to remove the number 3 from the list [1, 2, 3, 4, 5].\n",
        "\n",
        "l = [1, 2, 3, 4, 5]\n",
        "l.remove(3)\n",
        "print(l)"
      ],
      "metadata": {
        "colab": {
          "base_uri": "https://localhost:8080/"
        },
        "id": "rHzIAixuoSgX",
        "outputId": "f31cc006-9b15-4198-8f3f-2ec82a92c3bc"
      },
      "execution_count": 13,
      "outputs": [
        {
          "output_type": "stream",
          "name": "stdout",
          "text": [
            "[1, 2, 4, 5]\n"
          ]
        }
      ]
    },
    {
      "cell_type": "code",
      "source": [
        "#9. Write a code to access the second element in the list ['a', 'b', 'c', 'd'].\n",
        "\n",
        "list1 = ['a', 'b', 'c', 'd']\n",
        "print(list1[1])"
      ],
      "metadata": {
        "colab": {
          "base_uri": "https://localhost:8080/"
        },
        "id": "Y6YbbEHpoocB",
        "outputId": "2c190100-bd4a-4934-b6cb-93316d03e83e"
      },
      "execution_count": 14,
      "outputs": [
        {
          "output_type": "stream",
          "name": "stdout",
          "text": [
            "b\n"
          ]
        }
      ]
    },
    {
      "cell_type": "code",
      "source": [
        "#10. Write a code to reverse the list [10, 20, 30, 40, 50].\n",
        "\n",
        "list1 = [10, 20, 30, 40, 50]\n",
        "list1[::-1]"
      ],
      "metadata": {
        "colab": {
          "base_uri": "https://localhost:8080/"
        },
        "id": "85Pbrh7ao7VO",
        "outputId": "bc33b94e-5a9e-4ea3-b163-fce81f18edb4"
      },
      "execution_count": 15,
      "outputs": [
        {
          "output_type": "execute_result",
          "data": {
            "text/plain": [
              "[50, 40, 30, 20, 10]"
            ]
          },
          "metadata": {},
          "execution_count": 15
        }
      ]
    },
    {
      "cell_type": "code",
      "source": [
        "#11. Write a code to create a tuple with the elements 100, 200, 300 and print it.\n",
        "\n",
        "t = (100, 200, 300)\n",
        "print(\"tuple:\", t)"
      ],
      "metadata": {
        "colab": {
          "base_uri": "https://localhost:8080/"
        },
        "id": "Yay_vUwbr25L",
        "outputId": "6ace431f-17fc-4e86-fcad-e3907891e4e0"
      },
      "execution_count": 1,
      "outputs": [
        {
          "output_type": "stream",
          "name": "stdout",
          "text": [
            "tuple: (100, 200, 300)\n"
          ]
        }
      ]
    },
    {
      "cell_type": "code",
      "source": [
        "#12. Write a code to access the second-to-last element of the tuple ('red', 'green', 'blue', 'yellow').\n",
        "\n",
        "t = ('red', 'green', 'blue', 'yellow')\n",
        "\n",
        "t[-2]"
      ],
      "metadata": {
        "colab": {
          "base_uri": "https://localhost:8080/",
          "height": 36
        },
        "id": "bNEhZTMM8uu8",
        "outputId": "eeec31eb-c1c3-41c9-9d2d-1861c66a16f9"
      },
      "execution_count": 4,
      "outputs": [
        {
          "output_type": "execute_result",
          "data": {
            "text/plain": [
              "'blue'"
            ],
            "application/vnd.google.colaboratory.intrinsic+json": {
              "type": "string"
            }
          },
          "metadata": {},
          "execution_count": 4
        }
      ]
    },
    {
      "cell_type": "code",
      "source": [
        "#13. Write a code to find the minimum number in the tuple (10, 20, 5, 15).\n",
        "\n",
        "t = (10, 20, 5, 15)\n",
        "\n",
        "print(\"minimum number in the tuple:\", min(t))"
      ],
      "metadata": {
        "colab": {
          "base_uri": "https://localhost:8080/"
        },
        "id": "iY29UNBw918k",
        "outputId": "218b8b6c-a01f-4909-fa2c-2849876ef085"
      },
      "execution_count": 10,
      "outputs": [
        {
          "output_type": "stream",
          "name": "stdout",
          "text": [
            "minimum number in the tuple: 5\n"
          ]
        }
      ]
    },
    {
      "cell_type": "code",
      "source": [
        "#14. Write a code to find the index of the element \"cat\" in the tuple ('dog', 'cat', 'rabbit').\n",
        "\n",
        "t = ('dog', 'cat', 'rabbit')\n",
        "\n",
        "t.index('cat')"
      ],
      "metadata": {
        "colab": {
          "base_uri": "https://localhost:8080/"
        },
        "id": "v_Ac3dDD-gtw",
        "outputId": "e9d83e3d-16ae-4151-ccb0-ad26321fa327"
      },
      "execution_count": 11,
      "outputs": [
        {
          "output_type": "execute_result",
          "data": {
            "text/plain": [
              "1"
            ]
          },
          "metadata": {},
          "execution_count": 11
        }
      ]
    },
    {
      "cell_type": "code",
      "source": [
        "#15. Write a code to create a tuple containing three different fruits and check if \"kiwi\" is in it.\n",
        "\n",
        "t = ('apple', 'banana', 'orange')\n",
        "\n",
        "print(\"kiwi\" in t)\n",
        "print(\"kiwi\" not in t)"
      ],
      "metadata": {
        "colab": {
          "base_uri": "https://localhost:8080/"
        },
        "id": "Qa1G5va1-s1Q",
        "outputId": "f7a047c1-c53f-42a8-8a4c-2e59d357bd93"
      },
      "execution_count": 14,
      "outputs": [
        {
          "output_type": "stream",
          "name": "stdout",
          "text": [
            "False\n",
            "True\n"
          ]
        }
      ]
    },
    {
      "cell_type": "code",
      "source": [
        "#16. Write a code to create a set with the elements 'a', 'b', 'c' and print it.\n",
        "\n",
        "s = {'a', 'b', 'c'}\n",
        "print(s)"
      ],
      "metadata": {
        "colab": {
          "base_uri": "https://localhost:8080/"
        },
        "id": "mCyPOAkQ_YDN",
        "outputId": "8d70b6c4-cf22-4af0-d102-bd80e59dff25"
      },
      "execution_count": 15,
      "outputs": [
        {
          "output_type": "stream",
          "name": "stdout",
          "text": [
            "{'b', 'c', 'a'}\n"
          ]
        }
      ]
    },
    {
      "cell_type": "code",
      "source": [
        "#17. Write a code to clear all elements from the set {1, 2, 3, 4, 5}.\n",
        "\n",
        "s = {1, 2, 3, 4, 5}\n",
        "s.clear()\n",
        "\n",
        "print(s)"
      ],
      "metadata": {
        "colab": {
          "base_uri": "https://localhost:8080/"
        },
        "id": "lgFD0-iC_mUe",
        "outputId": "4594ec02-7ef9-4844-b342-6ce63641b8fe"
      },
      "execution_count": 17,
      "outputs": [
        {
          "output_type": "stream",
          "name": "stdout",
          "text": [
            "set()\n"
          ]
        }
      ]
    },
    {
      "cell_type": "code",
      "source": [
        "#18. Write a code to remove the element 4 from the set {1, 2, 3, 4}.\n",
        "\n",
        "s = {1, 2, 3, 4}\n",
        "s.remove(4)\n",
        "\n",
        "print(s)"
      ],
      "metadata": {
        "colab": {
          "base_uri": "https://localhost:8080/"
        },
        "id": "iic8jfeC_0sO",
        "outputId": "70474ef0-b52c-4f97-e35d-da077f884f48"
      },
      "execution_count": 18,
      "outputs": [
        {
          "output_type": "stream",
          "name": "stdout",
          "text": [
            "{1, 2, 3}\n"
          ]
        }
      ]
    },
    {
      "cell_type": "code",
      "source": [
        "#19. Write a code to find the union of two sets {1, 2, 3} and {3, 4, 5}.\n",
        "\n",
        "a = {1, 2, 3}\n",
        "b = {3, 4, 5}\n",
        "\n",
        "print(\"union of two sets:\", a.union(b))"
      ],
      "metadata": {
        "colab": {
          "base_uri": "https://localhost:8080/"
        },
        "id": "N0O8lev8_0oz",
        "outputId": "a82e7fb4-1f90-411b-ea5a-8917744aaf6e"
      },
      "execution_count": 19,
      "outputs": [
        {
          "output_type": "stream",
          "name": "stdout",
          "text": [
            "union of two sets: {1, 2, 3, 4, 5}\n"
          ]
        }
      ]
    },
    {
      "cell_type": "code",
      "source": [
        "#20. Write a code to find the intersection of two sets {1, 2, 3} and {2, 3, 4}.\n",
        "\n",
        "a = {1, 2, 3}\n",
        "b = {2, 3, 4}\n",
        "\n",
        "print(\"intersection of two sets:\", a.intersection(b))"
      ],
      "metadata": {
        "colab": {
          "base_uri": "https://localhost:8080/"
        },
        "id": "cUNLiYcOARpH",
        "outputId": "e1cbb0c7-05d0-4b48-b01c-fe8cbcbe7921"
      },
      "execution_count": 20,
      "outputs": [
        {
          "output_type": "stream",
          "name": "stdout",
          "text": [
            "intersection of two sets: {2, 3}\n"
          ]
        }
      ]
    },
    {
      "cell_type": "code",
      "source": [
        "#21. Write a code to create a dictionary with the keys \"name\", \"age\", and \"city\", and print it.\n",
        "\n",
        "d = {\"name\": \"Prasenjit\", \"age\": 22, \"city\": \"Kolkata\"}\n",
        "print(d)"
      ],
      "metadata": {
        "colab": {
          "base_uri": "https://localhost:8080/"
        },
        "id": "1LndHt5EAvQu",
        "outputId": "0a3a28df-7c79-4e8b-dbed-dbfbf0866d6f"
      },
      "execution_count": 21,
      "outputs": [
        {
          "output_type": "stream",
          "name": "stdout",
          "text": [
            "{'name': 'Prasenjit', 'age': 22, 'city': 'Kolkata'}\n"
          ]
        }
      ]
    },
    {
      "cell_type": "code",
      "source": [
        "#22. Write a code to add a new key-value pair \"country\": \"USA\" to the dictionary {'name': 'John', 'age': 25}.\n",
        "\n",
        "d = {'name': 'John', 'age': 25}\n",
        "\n",
        "d[\"country\"] = \"USA\"\n",
        "\n",
        "print(d)"
      ],
      "metadata": {
        "colab": {
          "base_uri": "https://localhost:8080/"
        },
        "id": "FjWQJRcIA_GK",
        "outputId": "6fc30335-2b16-4a57-bac6-851aaa5e088b"
      },
      "execution_count": 23,
      "outputs": [
        {
          "output_type": "stream",
          "name": "stdout",
          "text": [
            "{'name': 'John', 'age': 25, 'country': 'USA'}\n"
          ]
        }
      ]
    },
    {
      "cell_type": "code",
      "source": [
        "#23. Write a code to access the value associated with the key \"name\" in the dictionary {'name': 'Alice', 'age': 30}.\n",
        "\n",
        "d = {\"name\": \"Alice\", \"age\": 30}\n",
        "\n",
        "print(d[\"name\"])"
      ],
      "metadata": {
        "colab": {
          "base_uri": "https://localhost:8080/"
        },
        "id": "WNdN7HzIB3P8",
        "outputId": "faad62f6-83fb-46c1-8570-97fe0ad50bb1"
      },
      "execution_count": 24,
      "outputs": [
        {
          "output_type": "stream",
          "name": "stdout",
          "text": [
            "Alice\n"
          ]
        }
      ]
    },
    {
      "cell_type": "code",
      "source": [
        "#24. Write a code to remove the key \"age\" from the dictionary {'name': 'Bob', 'age': 22, 'city': 'New York'}.\n",
        "\n",
        "d = {'name': 'Bob', 'age': 22, 'city': 'New York'}\n",
        "\n",
        "del d[\"age\"]\n",
        "\n",
        "print(d)"
      ],
      "metadata": {
        "colab": {
          "base_uri": "https://localhost:8080/"
        },
        "id": "sVCBRIDLCKhF",
        "outputId": "c7a11f53-bff9-488e-b58c-2a044b341c56"
      },
      "execution_count": 25,
      "outputs": [
        {
          "output_type": "stream",
          "name": "stdout",
          "text": [
            "{'name': 'Bob', 'city': 'New York'}\n"
          ]
        }
      ]
    },
    {
      "cell_type": "code",
      "source": [
        "#25. Write a code to check if the key \"city\" exists in the dictionary {'name': 'Alice', 'city': 'Paris'}.\n",
        "\n",
        "d = {'name': 'Alice', 'city': 'Paris'}\n",
        "\n",
        "print(\"city\" in d)"
      ],
      "metadata": {
        "colab": {
          "base_uri": "https://localhost:8080/"
        },
        "id": "E58gWgCRCbwh",
        "outputId": "7f0db86a-f14d-4fb5-bba2-712462372dc0"
      },
      "execution_count": 26,
      "outputs": [
        {
          "output_type": "stream",
          "name": "stdout",
          "text": [
            "True\n"
          ]
        }
      ]
    },
    {
      "cell_type": "code",
      "source": [
        "#26. Write a code to create a list, a tuple, and a dictionary, and print them all.\n",
        "\n",
        "d = {\"name\": \"Prasenjit\", \"age\": 22, \"city\": \"Kolkata\"}\n",
        "l = [\"prasenjit\", \"prakash\", \"bansod\"]\n",
        "t = (\"prasenjit\", \"prakash\", \"bansod\")\n",
        "\n",
        "print(\"dict:\", d)\n",
        "print(\"list:\", l)\n",
        "print(\"tuple:\", t)"
      ],
      "metadata": {
        "colab": {
          "base_uri": "https://localhost:8080/"
        },
        "id": "kzo-lAxjCrW-",
        "outputId": "39530ec1-30a0-4f62-df4d-61872866249d"
      },
      "execution_count": 28,
      "outputs": [
        {
          "output_type": "stream",
          "name": "stdout",
          "text": [
            "dict: {'name': 'Prasenjit', 'age': 22, 'city': 'Kolkata'}\n",
            "list: ['prasenjit', 'prakash', 'bansod']\n",
            "tuple: ('prasenjit', 'prakash', 'bansod')\n"
          ]
        }
      ]
    },
    {
      "cell_type": "code",
      "source": [
        "#27. Write a code to create a list of 5 random numbers between 1 and 100, sort it in ascending order, and print the result.(replaced).\n",
        "\n",
        "l = [4, 44, 5, 66, 49]\n",
        "\n",
        "print(sorted(l))\n",
        "\n",
        "print(result.(replaced))"
      ],
      "metadata": {
        "colab": {
          "base_uri": "https://localhost:8080/"
        },
        "id": "gWRsfZ1pDb05",
        "outputId": "89262b6f-0200-43cb-c432-230baa9ab91c"
      },
      "execution_count": 40,
      "outputs": [
        {
          "output_type": "stream",
          "name": "stdout",
          "text": [
            "[4, 5, 44, 49, 66]\n"
          ]
        }
      ]
    },
    {
      "cell_type": "code",
      "source": [
        "import random\n",
        "\n",
        "# Generate a list of 5 random numbers between 1 and 100\n",
        "random_numbers = [random.randint(1, 100) for _ in range(5)]\n",
        "\n",
        "# Sort the list in ascending order\n",
        "random_numbers.sort()\n",
        "\n",
        "# Print the sorted list\n",
        "print(random_numbers)\n"
      ],
      "metadata": {
        "colab": {
          "base_uri": "https://localhost:8080/"
        },
        "id": "lLtrAI5jG_FZ",
        "outputId": "fa0daa14-8aea-43e1-82bf-bfd8d9e235b8"
      },
      "execution_count": 41,
      "outputs": [
        {
          "output_type": "stream",
          "name": "stdout",
          "text": [
            "[4, 9, 35, 58, 79]\n"
          ]
        }
      ]
    },
    {
      "cell_type": "code",
      "source": [
        "#28.  Write a code to create a list with strings and print the element at the third index.\n",
        "\n",
        "list1 = [\"Ajay\", \"Bijay\", \"sanjay\", \"pwskills\"]\n",
        "\n",
        "print(list1[3])"
      ],
      "metadata": {
        "colab": {
          "base_uri": "https://localhost:8080/"
        },
        "id": "S0iro55uHZZt",
        "outputId": "a51e1eaf-353e-45d6-9e37-63be67f6b078"
      },
      "execution_count": 43,
      "outputs": [
        {
          "output_type": "stream",
          "name": "stdout",
          "text": [
            "pwskills\n"
          ]
        }
      ]
    },
    {
      "cell_type": "code",
      "source": [
        "#29.  Write a code to combine two dictionaries into one and print the result.\n",
        "\n",
        "\n",
        "d1 = {\"name\": \"Prasenjit\", \"age\": 22, \"city\": \"pune\"}\n",
        "d2 = {\"name\": \"sham\", \"age\": 19, \"city\": \"mumbai\"}\n",
        "\n",
        "d1.update(d2)\n",
        "\n",
        "print(d1)\n"
      ],
      "metadata": {
        "colab": {
          "base_uri": "https://localhost:8080/"
        },
        "id": "QE3pVk-kKozD",
        "outputId": "6b50f6b5-05b2-475d-f313-9ac10d7f003c"
      },
      "execution_count": 49,
      "outputs": [
        {
          "output_type": "stream",
          "name": "stdout",
          "text": [
            "{'name': 'sham', 'age': 19, 'city': 'mumbai'}\n"
          ]
        }
      ]
    },
    {
      "cell_type": "code",
      "source": [
        "#30. Write a code to convert a list of strings into a set.\n",
        "\n",
        "list1 = [\"Ajay\", \"Bijay\", \"sanjay\", \"pwskills\"]\n",
        "\n",
        "s = set(list1)\n",
        "\n",
        "print(s)"
      ],
      "metadata": {
        "colab": {
          "base_uri": "https://localhost:8080/"
        },
        "id": "W9HI0zMFM5CV",
        "outputId": "04f62886-7a60-430b-b9e6-7192e814bc58"
      },
      "execution_count": 54,
      "outputs": [
        {
          "output_type": "stream",
          "name": "stdout",
          "text": [
            "{'sanjay', 'pwskills', 'Bijay', 'Ajay'}\n"
          ]
        }
      ]
    }
  ]
}